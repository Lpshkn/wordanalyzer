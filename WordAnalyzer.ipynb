{
 "cells": [
  {
   "cell_type": "markdown",
   "metadata": {},
   "source": [
    "# The analyzer of the possibility of the reversibility of words' mutation "
   ]
  },
  {
   "cell_type": "code",
   "execution_count": 1,
   "metadata": {},
   "outputs": [],
   "source": [
    "url_dataset = 'https://github.com/brannondorsey/naive-hashcat/releases/do|wnload/data/rockyou.txt'"
   ]
  },
  {
   "cell_type": "markdown",
   "metadata": {},
   "source": [
    "We have to install wget package in order to download the dataset. Then import codecs module in order to read file with a necessary encoding, ANSI in this case."
   ]
  },
  {
   "cell_type": "code",
   "execution_count": 2,
   "metadata": {},
   "outputs": [
    {
     "name": "stdout",
     "output_type": "stream",
     "text": [
      "Requirement already satisfied: wget in c:\\users\\kofff\\anaconda3\\envs\\py33\\lib\\site-packages (3.2)\n",
      "Note: you may need to restart the kernel to use updated packages.\n"
     ]
    }
   ],
   "source": [
    "pip install wget"
   ]
  },
  {
   "cell_type": "code",
   "execution_count": 3,
   "metadata": {},
   "outputs": [],
   "source": [
    "import wget\n",
    "import os\n",
    "file = 'rockyou.txt'\n",
    "if not os.path.isfile(file):\n",
    "    file = wget.download(url_dataset)"
   ]
  },
  {
   "cell_type": "code",
   "execution_count": 4,
   "metadata": {},
   "outputs": [],
   "source": [
    "import codecs\n",
    "with codecs.open(file, 'r', 'ANSI') as f:\n",
    "    data = f.read().splitlines()"
   ]
  },
  {
   "cell_type": "markdown",
   "metadata": {},
   "source": [
    "The dataset consists of more 14 millions words, so we have to get a trim of dataset to ease calculating and waste less time. Then clear the dataset of empty passwords."
   ]
  },
  {
   "cell_type": "code",
   "execution_count": 5,
   "metadata": {},
   "outputs": [
    {
     "data": {
      "text/plain": [
       "3587"
      ]
     },
     "execution_count": 5,
     "metadata": {},
     "output_type": "execute_result"
    }
   ],
   "source": [
    "passwords = [passwd for passwd in data[::4000] if passwd]\n",
    "len(passwords)"
   ]
  },
  {
   "cell_type": "markdown",
   "metadata": {},
   "source": [
    "# Split and analyze lexemes"
   ]
  },
  {
   "cell_type": "markdown",
   "metadata": {},
   "source": [
    "Здесь имеются около 125к слов, расположенных в порядке убывания частоты встречаемости. На основе этого словаря высчитываются wordcost по закону Ципфа."
   ]
  },
  {
   "cell_type": "code",
   "execution_count": 6,
   "metadata": {},
   "outputs": [],
   "source": [
    "url = 'https://github.com/keredson/wordninja/blob/master/wordninja/wordninja_words.txt.gz'"
   ]
  },
  {
   "cell_type": "code",
   "execution_count": 7,
   "metadata": {},
   "outputs": [],
   "source": [
    "with open('wordninja_words.txt', 'r') as f:\n",
    "    frequency_words = f.read().splitlines()"
   ]
  },
  {
   "cell_type": "code",
   "execution_count": 8,
   "metadata": {},
   "outputs": [],
   "source": [
    "from math import log\n",
    "\n",
    "# Zipf's law\n",
    "words = frequency_words\n",
    "wordcost = dict((k, log((i+1)*log(len(words)))) for i,k in enumerate(words))"
   ]
  },
  {
   "cell_type": "markdown",
   "metadata": {},
   "source": [
    "Первые 10 наиболее встречающихся слов."
   ]
  },
  {
   "cell_type": "code",
   "execution_count": 9,
   "metadata": {},
   "outputs": [
    {
     "data": {
      "text/plain": [
       "['the', 'of', 'in', 'a', 'and', 'is', 'to', 'was', 'it', 'for']"
      ]
     },
     "execution_count": 9,
     "metadata": {},
     "output_type": "execute_result"
    }
   ],
   "source": [
    "frequency_words[:10]"
   ]
  },
  {
   "cell_type": "markdown",
   "metadata": {},
   "source": [
    "В этом пакете реализована функция разделения слова на лексемы, основываясь на том же словаре"
   ]
  },
  {
   "cell_type": "code",
   "execution_count": 10,
   "metadata": {},
   "outputs": [
    {
     "name": "stdout",
     "output_type": "stream",
     "text": [
      "Requirement already satisfied: wordninja in c:\\users\\kofff\\anaconda3\\envs\\py33\\lib\\site-packages (2.0.0)\n",
      "Note: you may need to restart the kernel to use updated packages.\n"
     ]
    }
   ],
   "source": [
    "pip install wordninja"
   ]
  },
  {
   "cell_type": "code",
   "execution_count": 11,
   "metadata": {},
   "outputs": [],
   "source": [
    "import wordninja"
   ]
  },
  {
   "cell_type": "markdown",
   "metadata": {},
   "source": [
    "## Examples"
   ]
  },
  {
   "cell_type": "code",
   "execution_count": 12,
   "metadata": {},
   "outputs": [
    {
     "data": {
      "text/plain": [
       "['this', 'is', 'my', 'password']"
      ]
     },
     "execution_count": 12,
     "metadata": {},
     "output_type": "execute_result"
    }
   ],
   "source": [
    "wordninja.split('thisismypassword')"
   ]
  },
  {
   "cell_type": "markdown",
   "metadata": {},
   "source": [
    "Функция выводит суммарную стоимость раздеделения на лексемы. Она поможет определить наиболее вероятный вариант разделения, уменьшая общую стоимость. Ниже приведен пример уменьшения стоимости при исправлении некорректных символов."
   ]
  },
  {
   "cell_type": "code",
   "execution_count": 14,
   "metadata": {},
   "outputs": [],
   "source": [
    "def get_total_cost(string):\n",
    "    return sum([wordcost.get(word, 100) for word in wordninja.split(string)])"
   ]
  },
  {
   "cell_type": "code",
   "execution_count": 15,
   "metadata": {},
   "outputs": [
    {
     "name": "stdout",
     "output_type": "stream",
     "text": [
      "['th', 's', '11', 's', 'my', 'pa', 'w', '0', 'rd', '3'] 185.4656164900615\n",
      "['th', 'si', '1', 's', 'my', 'pa', 'w', '0', 'rd', '3'] 105.2123667183307\n",
      "['th', 'si', '1', 's', 'my', 'pas', 'w', '0', 'rd', '3'] 102.55225597951761\n",
      "['th', 's', 'is', 'my', 'pass', 'w', '0', 'rd', '3'] 82.5043512191454\n",
      "['th', 's', 'is', 'my', 'password', '3'] 51.24674348376489\n",
      "['this', 'is', 'my', 'password', '3'] 44.303267203244076\n",
      "['this', 'is', 'my', 'password', 'e'] 37.96537057462295\n",
      "['th', 's', 'is', 'my', 'password', 'e'] 44.90884685514377\n",
      "['this', 'is', 'my', 'password'] 30.094761311203957\n"
     ]
    }
   ],
   "source": [
    "print(wordninja.split('ths11smypa$$w0rd3'), get_total_cost('ths11smypa$$w0rd3'))\n",
    "print(wordninja.split('thsi1smypa$$w0rd3'), get_total_cost('thsi1smypa$$w0rd3'))\n",
    "print(wordninja.split('thsi1smypas$w0rd3'), get_total_cost('thsi1smypas$w0rd3'))\n",
    "print(wordninja.split('thsismypassw0rd3'), get_total_cost('thsismypassw0rd3'))\n",
    "print(wordninja.split('thsismypassword3'), get_total_cost('thsismypassword3'))\n",
    "print(wordninja.split('thisismypassword3'), get_total_cost('thisismypassword3'))\n",
    "print(wordninja.split('thisismypassworde'), get_total_cost('thisismypassworde'))\n",
    "print(wordninja.split('thsismypassworde'), get_total_cost('thsismypassworde'))\n",
    "print(wordninja.split('thisismypassword'), get_total_cost('thisismypassword'))"
   ]
  },
  {
   "cell_type": "markdown",
   "metadata": {},
   "source": [
    "Основная идея нахождения лексем состоит в следующем:  \n",
    "1) находим все подменяемые символы ($, 1, @ и т.п.) и выделяем их индексы  \n",
    "2) создаем всевозможные сочетания индексов, чтобы найти оптимальный вариант  \n",
    "3) преобразовываем найденные варианты и высчитываем их сумму  \n",
    "4) находим минимальную сумму и выводим лучший результат\n",
    "\n",
    "Следующий пример показывает пример нахождения всех символов."
   ]
  },
  {
   "cell_type": "code",
   "execution_count": 16,
   "metadata": {},
   "outputs": [],
   "source": [
    "original = 'Ths_1s_mypa$$w0rd3'"
   ]
  },
  {
   "cell_type": "code",
   "execution_count": 18,
   "metadata": {},
   "outputs": [
    {
     "data": {
      "text/plain": [
       "192.51932115113203"
      ]
     },
     "execution_count": 18,
     "metadata": {},
     "output_type": "execute_result"
    }
   ],
   "source": [
    "get_total_cost(original)"
   ]
  },
  {
   "cell_type": "code",
   "execution_count": 20,
   "metadata": {},
   "outputs": [
    {
     "data": {
      "text/plain": [
       "['1', '$', '$', '0', '3']"
      ]
     },
     "execution_count": 20,
     "metadata": {},
     "output_type": "execute_result"
    }
   ],
   "source": [
    "import re\n",
    "re.findall(r'[\\W\\d\\s]', original)"
   ]
  },
  {
   "cell_type": "markdown",
   "metadata": {},
   "source": [
    "## Analyze lexemes"
   ]
  },
  {
   "cell_type": "markdown",
   "metadata": {},
   "source": [
    "Данная функция подменяет все найденные по переданным индексам символы в comparison. Остальные найденные некорректные символы удаляются из строки."
   ]
  },
  {
   "cell_type": "code",
   "execution_count": 21,
   "metadata": {},
   "outputs": [],
   "source": [
    "def leet_transform(string, indices):\n",
    "    comparison = {\n",
    "        '$': 's',\n",
    "        '1': 'i',\n",
    "        '0': 'o',\n",
    "        '3': 'e',\n",
    "        '@': 'a'\n",
    "    }\n",
    "    \n",
    "    for index in indices:\n",
    "        symbol = comparison.get(string[index])\n",
    "        \n",
    "        if not symbol:\n",
    "            continue\n",
    "            \n",
    "        string = string[:index] + symbol + string[index+1:]\n",
    "          \n",
    "    return re.sub(r'[\\W\\d\\s_]+', r'', string)"
   ]
  },
  {
   "cell_type": "code",
   "execution_count": 22,
   "metadata": {},
   "outputs": [],
   "source": [
    "from itertools import combinations"
   ]
  },
  {
   "cell_type": "markdown",
   "metadata": {},
   "source": [
    "Функция возвращает все индексы некорректных символов в строке"
   ]
  },
  {
   "cell_type": "code",
   "execution_count": 23,
   "metadata": {},
   "outputs": [],
   "source": [
    "def get_indices_incorrect_symbols(word):\n",
    "    arr = []\n",
    "    index = 0\n",
    "    for char in re.findall(r'[\\W\\d\\s]', word):\n",
    "        index = word.index(char, index)\n",
    "        arr.append(index)\n",
    "        index += 1\n",
    "    \n",
    "    return arr"
   ]
  },
  {
   "cell_type": "markdown",
   "metadata": {},
   "source": [
    "Функция возвращает всевозможные сочетания индексов"
   ]
  },
  {
   "cell_type": "code",
   "execution_count": 24,
   "metadata": {},
   "outputs": [],
   "source": [
    "def get_all_combinations(indices):\n",
    "    coms = []\n",
    "    for i in range(1, len(indices)+1):\n",
    "        coms.extend(combinations(indices, i))\n",
    "        \n",
    "    return coms"
   ]
  },
  {
   "cell_type": "markdown",
   "metadata": {},
   "source": [
    "Данная функция высчитывает сумму для всех найденных комбинаций и возвращает получившуюся строку с наименьшей суммой "
   ]
  },
  {
   "cell_type": "code",
   "execution_count": 28,
   "metadata": {},
   "outputs": [],
   "source": [
    "def get_correct_password(word):\n",
    "    indices = get_indices_incorrect_symbols(word)\n",
    "    \n",
    "    corrected_password = [1000, '']\n",
    "    \n",
    "    all_combinations = get_all_combinations(indices)\n",
    "    # Defines an empty combination\n",
    "    all_combinations.append([])\n",
    "    \n",
    "    for combinations in all_combinations:\n",
    "        prepared_str = leet_transform(word, combinations)\n",
    "\n",
    "        total_cost = get_total_cost(prepared_str.lower())\n",
    "\n",
    "        if total_cost < corrected_password[0]:\n",
    "            corrected_password = [total_cost, prepared_str]\n",
    "\n",
    "    return corrected_password[1]"
   ]
  },
  {
   "cell_type": "markdown",
   "metadata": {},
   "source": [
    "Пример применения данной функции на наборе из 3500 паролей"
   ]
  },
  {
   "cell_type": "code",
   "execution_count": 29,
   "metadata": {},
   "outputs": [],
   "source": [
    "correct_passwords_list = [(password, get_correct_password(password)) for password in passwords]"
   ]
  },
  {
   "cell_type": "code",
   "execution_count": 30,
   "metadata": {},
   "outputs": [
    {
     "data": {
      "text/plain": [
       "[('123456', ''),\n",
       " ('mocosa', 'mocosa'),\n",
       " ('271005', ''),\n",
       " ('28defebrero', 'defebrero'),\n",
       " ('frumushika', 'frumushika'),\n",
       " ('judy22', 'judy'),\n",
       " ('locoboy', 'locoboy'),\n",
       " ('allyson2', 'allyson'),\n",
       " ('Daniel7', 'Daniel'),\n",
       " ('copper84', 'copper'),\n",
       " ('my babe', 'mybabe'),\n",
       " ('Buffett', 'Buffett'),\n",
       " ('nuber1', 'nuber'),\n",
       " ('dababy1', 'dababy'),\n",
       " ('081873', ''),\n",
       " ('plunket', 'plunket'),\n",
       " ('jonny!', 'jonny'),\n",
       " ('charmoso', 'charmoso'),\n",
       " ('511522', ''),\n",
       " ('verizon25', 'verizon'),\n",
       " ('saullopez', 'saullopez'),\n",
       " ('nikolas95', 'nikolas'),\n",
       " ('littley', 'littley'),\n",
       " ('iusti', 'iusti'),\n",
       " ('elmejor20', 'elmejor'),\n",
       " ('budakdak', 'budakdak'),\n",
       " ('TRAVIS11', 'TRAVIS'),\n",
       " ('5151984', ''),\n",
       " ('11714', ''),\n",
       " ('wuhtever89', 'wuhtever'),\n",
       " ('tstj5014', 'tstj'),\n",
       " ('takki329', 'takki'),\n",
       " ('skejterka', 'skejterka'),\n",
       " ('salmon4', 'salmon'),\n",
       " ('random360', 'random'),\n",
       " ('percylee', 'percylee'),\n",
       " ('ninan', 'ninan'),\n",
       " ('monajojie', 'monajojie'),\n",
       " ('maryanne14', 'maryanne'),\n",
       " ('louryn', 'louryn'),\n",
       " ('labrat77', 'labrat'),\n",
       " ('kandaq', 'kandaq'),\n",
       " ('jelyna', 'jelyna'),\n",
       " ('ilovecamp1', 'ilovecamp'),\n",
       " ('gui0651', 'gui'),\n",
       " ('flirt91', 'flirt'),\n",
       " ('dysgla', 'dysgla'),\n",
       " ('danneka', 'danneka'),\n",
       " ('chivasluz', 'chivasluz'),\n",
       " ('brownielover', 'brownielover'),\n",
       " ('bb3020', 'bb'),\n",
       " ('angellex', 'angellex'),\n",
       " ('a07101238', 'a'),\n",
       " ('LOve111', 'LOve'),\n",
       " ('BICTH1', 'BICTH'),\n",
       " ('7and0#54moneymoney', 'andmoneymoney'),\n",
       " ('546620', ''),\n",
       " ('3479newport', 'newport'),\n",
       " ('227933', ''),\n",
       " ('1554409', ''),\n",
       " ('09106388643', ''),\n",
       " ('029251162', ''),\n",
       " ('zte0717', 'zte'),\n",
       " ('zavian34', 'zavian'),\n",
       " ('yucef2', 'yucef'),\n",
       " ('yianna10', 'yianna'),\n",
       " ('yakobi', 'yakobi'),\n",
       " ('xena8056', 'xena'),\n",
       " ('wonderbre1', 'wonderbre'),\n",
       " ('whutup123', 'whutup'),\n",
       " ('weagles3', 'weagles'),\n",
       " ('w7838798', 'we'),\n",
       " ('vinster1', 'vinster'),\n",
       " ('veelgeld', 'veelgeld'),\n",
       " ('uwannabme1', 'uwannabme'),\n",
       " ('ucypeare11', 'ucypeare'),\n",
       " ('tuppence12', 'tuppence'),\n",
       " ('trinash1', 'trinash'),\n",
       " ('tori999', 'tori'),\n",
       " ('tnw*arj', 'tnwarj'),\n",
       " ('tina1218', 'tina'),\n",
       " ('thinkpink213', 'thinkpink'),\n",
       " ('tetherdown', 'tetherdown'),\n",
       " ('teamoriky', 'teamoriky'),\n",
       " ('tashiatay', 'tashiatay'),\n",
       " ('tagfish', 'tagfish'),\n",
       " ('swindon150', 'swindon'),\n",
       " ('sunseed23', 'sunseed'),\n",
       " ('stonerdude', 'stonerdude'),\n",
       " ('stabsley', 'stabsley'),\n",
       " ('spark11plug', 'sparkplug'),\n",
       " ('solidmind', 'solidmind'),\n",
       " ('smileybones', 'smileybones'),\n",
       " ('skb4490', 'skb'),\n",
       " ('silly72', 'silly'),\n",
       " ('shimmy69', 'shimmy'),\n",
       " ('shangles', 'shangles'),\n",
       " ('sexy1806', 'sexy'),\n",
       " ('seemachakshu', 'seemachakshu'),\n",
       " ('sc1973', 'sc'),\n",
       " ('santymn', 'santymn'),\n",
       " ('salmo03', 'salmo'),\n",
       " ('s8972803g', 'sg'),\n",
       " ('rundown0261', 'rundown'),\n",
       " ('rosina123456', 'rosina'),\n",
       " ('roco45', 'roco'),\n",
       " ('ritusoni', 'ritusoni'),\n",
       " ('rhandy15', 'rhandy'),\n",
       " ('reframed', 'reframed'),\n",
       " ('rayisjunior', 'rayisjunior'),\n",
       " ('raissou', 'raissou'),\n",
       " ('qweens16', 'qweens'),\n",
       " ('puss2424', 'puss'),\n",
       " ('prmia92', 'prmia'),\n",
       " ('portugal187', 'portugal'),\n",
       " ('poills702', 'poills'),\n",
       " ('pirryromero', 'pirryromero'),\n",
       " ('pickle411', 'pickle'),\n",
       " ('peppujie', 'peppujie'),\n",
       " ('pausefanclub', 'pausefanclub'),\n",
       " ('papichul07', 'papichul'),\n",
       " ('pachuchay26', 'pachuchay'),\n",
       " ('osames', 'osames'),\n",
       " ('olman25', 'olman'),\n",
       " ('oana011', 'oana'),\n",
       " ('novisad710', 'novisad'),\n",
       " ('noandty3', 'noandty'),\n",
       " ('nikegel', 'nikegel'),\n",
       " ('newphase', 'newphase'),\n",
       " ('nebermakeluvwifani1', 'nebermakeluvwifani'),\n",
       " ('napwla', 'napwla'),\n",
       " ('n4434245', 'n'),\n",
       " ('mychyduck', 'mychyduck'),\n",
       " ('mufucknp21', 'mufucknp'),\n",
       " ('mozers', 'mozers'),\n",
       " ('monkey5557', 'monkey'),\n",
       " ('mo1lly', 'molly'),\n",
       " ('misti34', 'misti'),\n",
       " ('mimijeje', 'mimijeje'),\n",
       " ('micy305', 'micy'),\n",
       " ('metuti', 'metuti'),\n",
       " ('mela1431617', 'mela'),\n",
       " ('mclaren007', 'mclaren'),\n",
       " ('matulid', 'matulid'),\n",
       " ('marquita8069983', 'marquita'),\n",
       " ('marcusmylove', 'marcusmylove'),\n",
       " ('mammocradakabat.', 'mammocradakabat'),\n",
       " ('mahaoe!', 'mahaoe'),\n",
       " ('mabelushi', 'mabelushi'),\n",
       " ('lybat', 'lybat'),\n",
       " ('luis19908101590.', 'luis'),\n",
       " ('lovesalive', 'lovesalive'),\n",
       " ('losers1scoopers1', 'losersiscoopers'),\n",
       " ('locklair', 'locklair'),\n",
       " ('lissete07', 'lissete'),\n",
       " ('lilkoh', 'lilkoh'),\n",
       " ('lglg00', 'lglg'),\n",
       " ('leilimar', 'leilimar'),\n",
       " ('laurguritzamea', 'laurguritzamea'),\n",
       " ('lamaru', 'lamaru'),\n",
       " ('l913mf', 'limf'),\n",
       " ('kuker07', 'kukero'),\n",
       " ('koreyandnene', 'koreyandnene'),\n",
       " ('kledingbeurs', 'kledingbeurs'),\n",
       " ('kingferdz', 'kingferdz'),\n",
       " ('khrishna', 'khrishna'),\n",
       " ('kendel2903', 'kendel'),\n",
       " ('kaythen', 'kaythen'),\n",
       " ('karleyisthe1', 'karleyisthe'),\n",
       " ('kaipo8805', 'kaipo'),\n",
       " ('juventus87', 'juventus'),\n",
       " ('jud20', 'judo'),\n",
       " ('josielovesjoseph', 'josielovesjoseph'),\n",
       " ('jojosub', 'jojosub'),\n",
       " ('jng1280', 'jng'),\n",
       " ('jimmyisno.1', 'jimmyisno'),\n",
       " ('jesuseucaristico', 'jesuseucaristico'),\n",
       " ('jemscute', 'jemscute'),\n",
       " ('jb4896', 'jb'),\n",
       " ('jaquona', 'jaquona'),\n",
       " ('jakeame', 'jakeame'),\n",
       " ('j86073', 'j'),\n",
       " ('itsnicehi5', 'itsnicehi'),\n",
       " ('intoy03', 'intoy'),\n",
       " ('ilvsara', 'ilvsara'),\n",
       " ('iloveme927', 'iloveme'),\n",
       " ('iibfuiab', 'iibfuiab'),\n",
       " ('iam2nice', 'iamnice'),\n",
       " ('hsmylola', 'hsmylola'),\n",
       " ('honash_01', 'honash'),\n",
       " ('hilary1219', 'hilary'),\n",
       " ('helenafeza', 'helenafeza'),\n",
       " ('harrietstobbs', 'harrietstobbs'),\n",
       " ('hag12179', 'hag'),\n",
       " ('guerargentina', 'guerargentina'),\n",
       " ('gracedave15', 'gracedave'),\n",
       " ('gochargers33', 'gochargers'),\n",
       " ('gili13', 'gili'),\n",
       " ('genaille', 'genaille'),\n",
       " ('gandagreyz', 'gandagreyz'),\n",
       " ('fur is wrong', 'furiswrong'),\n",
       " ('freecorey', 'freecorey'),\n",
       " ('fmreis', 'fmreis'),\n",
       " ('fingNtoe02', 'fingNtoe'),\n",
       " ('fear2006', 'fear'),\n",
       " ('fahmi845', 'fahmi'),\n",
       " ('eva21889', 'eva'),\n",
       " ('erikafm', 'erikafm'),\n",
       " ('emmzcomputer12', 'emmzcomputer'),\n",
       " ('ellamaisel', 'ellamaisel'),\n",
       " ('egidio060662', 'egidio'),\n",
       " ('earniza', 'earniza'),\n",
       " ('duggin1972', 'duggin'),\n",
       " ('dpkon', 'dpkon'),\n",
       " ('dogdog100', 'dogdog'),\n",
       " ('dishon11', 'dishon'),\n",
       " ('dia2854', 'dia'),\n",
       " ('dennissossy', 'dennissossy'),\n",
       " ('deathline', 'deathline'),\n",
       " ('dathg81', 'dathg'),\n",
       " ('dani-21', 'dani'),\n",
       " ('dacemad', 'dacemad'),\n",
       " ('cutedholl', 'cutedholl'),\n",
       " ('criseida101', 'criseida'),\n",
       " ('cornbread1969', 'cornbread'),\n",
       " ('colinas5391', 'colinas'),\n",
       " ('climax66', 'climax'),\n",
       " ('cicily95', 'cicily'),\n",
       " ('chiva25', 'chiva'),\n",
       " ('chelric45', 'chelric'),\n",
       " ('chainunit1', 'chainunit'),\n",
       " ('cchs21', 'cchs'),\n",
       " ('carolnytx16', 'carolnytx'),\n",
       " ('campos30', 'campos'),\n",
       " ('c9912s', 'cis'),\n",
       " ('bungholimon55', 'bungholimon'),\n",
       " ('bruja31', 'bruja'),\n",
       " ('bratz4398', 'bratz'),\n",
       " ('bookee96', 'bookee'),\n",
       " ('bmkaunt', 'bmkaunt'),\n",
       " ('bl4ckp4r4d3', 'blckprde'),\n",
       " ('bigbum1234', 'bigbum'),\n",
       " ('besos84', 'besos'),\n",
       " ('bedroomeyez', 'bedroomeyez'),\n",
       " ('baznfaith', 'baznfaith'),\n",
       " ('bama0611', 'bama'),\n",
       " ('babydime93', 'babydime'),\n",
       " ('azradamia', 'azradamia'),\n",
       " ('augusta345', 'augusta'),\n",
       " ('ashleighschieving', 'ashleighschieving'),\n",
       " ('arisha29', 'arisha'),\n",
       " ('aopimoney', 'aopimoney'),\n",
       " ('animal4u', 'animalu'),\n",
       " ('andoloco23', 'andoloco'),\n",
       " ('ammblg', 'ammblg'),\n",
       " ('alremt32', 'alremt'),\n",
       " ('alexterecuerdo', 'alexterecuerdo'),\n",
       " ('akppipoy', 'akppipoy'),\n",
       " ('ahmfhuta20', 'ahmfhuta'),\n",
       " ('adiospoeta', 'adiospoeta'),\n",
       " ('abishekbachan', 'abishekbachan'),\n",
       " ('a37125', 'a'),\n",
       " ('YO519GE', 'YOGE'),\n",
       " ('UssnszA', 'UssnszA'),\n",
       " ('TMBR1', 'TMBR'),\n",
       " ('Sillygrl', 'Sillygrl'),\n",
       " ('SIENA', 'SIENA'),\n",
       " ('Ray9181', 'Ray'),\n",
       " ('Postweg98', 'Postweg'),\n",
       " ('PALI4883', 'PALI'),\n",
       " ('NENIYAH!', 'NENIYAH'),\n",
       " ('Man01312005', 'Man'),\n",
       " ('MATUKU', 'MATUKU'),\n",
       " ('Lancebass', 'Lancebass'),\n",
       " ('L26552316', 'L'),\n",
       " ('KASKA1', 'KASKA'),\n",
       " ('JOLUROAL07', 'JOLUROAL'),\n",
       " ('IVORI', 'IVORI'),\n",
       " ('HERMOSURAS', 'HERMOSURAS'),\n",
       " ('GABYTKM', 'GABYTKM'),\n",
       " ('Eigiml0507', 'Eigiml'),\n",
       " ('Dancer5678', 'Dancer'),\n",
       " ('Crash69', 'Crash'),\n",
       " ('CHRIS_01', 'CHRIS'),\n",
       " ('Bigbutts', 'Bigbutts'),\n",
       " ('BC1960MC1960', 'BCMC'),\n",
       " ('AZENETHEITZEL', 'AZENETHEITZEL'),\n",
       " ('A33545028', 'A'),\n",
       " ('99220242', ''),\n",
       " ('970215ws', 'ws'),\n",
       " ('94515333', ''),\n",
       " ('921027075106', ''),\n",
       " ('901041598v', 'v'),\n",
       " ('88172125', ''),\n",
       " ('85095ysim', 'ysim'),\n",
       " ('818125', ''),\n",
       " ('7942263', ''),\n",
       " ('7651213', ''),\n",
       " ('728004', ''),\n",
       " ('69tool69', 'tool'),\n",
       " ('6694247', ''),\n",
       " ('638924', ''),\n",
       " ('607478', ''),\n",
       " ('58417537', ''),\n",
       " ('559trees', 'trees'),\n",
       " ('537736', ''),\n",
       " ('513adsumdrive', 'adsumdrive'),\n",
       " ('4e2bme', 'ebme'),\n",
       " ('478494', ''),\n",
       " ('45514551m', 'm'),\n",
       " ('433056', ''),\n",
       " ('41215@12911', ''),\n",
       " ('3938748', ''),\n",
       " ('360432inez', 'inez'),\n",
       " ('3334chris', 'chris'),\n",
       " ('31494bria', 'bria'),\n",
       " ('30031988liak', 'liak'),\n",
       " ('291285d', 'd'),\n",
       " ('2720315', ''),\n",
       " ('2571985k', 'k'),\n",
       " ('246630fuck', 'fuck'),\n",
       " ('233911062217578', ''),\n",
       " ('2222responsabilidade', 'responsabilidade'),\n",
       " ('2108carlos', 'carlos'),\n",
       " ('2007Bebo', 'Bebo'),\n",
       " ('1masterbate', 'masterbate'),\n",
       " ('1HUNNEE', 'HUNNEE'),\n",
       " ('1981oli', 'oli'),\n",
       " ('18822927', ''),\n",
       " ('1719192096', ''),\n",
       " ('1587366', ''),\n",
       " ('144348', ''),\n",
       " ('134223', ''),\n",
       " ('12406r', 'or'),\n",
       " ('121mssra', 'mssra'),\n",
       " ('112abc4e', 'abce'),\n",
       " ('1060978', ''),\n",
       " ('0ydik=', 'ydik'),\n",
       " ('0927856710', ''),\n",
       " ('09162482018', ''),\n",
       " ('0896562682', ''),\n",
       " ('0875873144', ''),\n",
       " ('0866208123', ''),\n",
       " ('0854985166', ''),\n",
       " ('084497757', ''),\n",
       " ('0835048416', ''),\n",
       " ('0816184584', ''),\n",
       " ('0801209102', ''),\n",
       " ('0724128597', ''),\n",
       " ('06396pm16', 'pm'),\n",
       " ('05448704298', ''),\n",
       " ('04525553', ''),\n",
       " ('038332175', ''),\n",
       " ('028745483', ''),\n",
       " ('0207517628', ''),\n",
       " ('014837472', ''),\n",
       " ('010736', ''),\n",
       " ('/yoiydoym', 'yoiydoym'),\n",
       " ('(K)royal', 'Kroyal')]"
      ]
     },
     "execution_count": 30,
     "metadata": {},
     "output_type": "execute_result"
    }
   ],
   "source": [
    "correct_passwords_list[::10]"
   ]
  },
  {
   "cell_type": "markdown",
   "metadata": {},
   "source": [
    "Следующий пример демонстрирует работу функции на возможном пароле \"the15ths1s_my_p@$$w0rd33\". Базовым словом было \"thethisismypassword\". Для исправления найденного слова данной функцией \"thethsismypassword\" подразумевается использовать BK-Tree, использующая в виде меры расстояние Дамерау-Левенштейна.\n",
    "\n",
    "Для данного примера необходимо исправить слова 'th' и 's', получив 'this'. Идея исправления состоит в следующем:  \n",
    "1) с первого слова по последнее проходить по порядку, склеивая их  \n",
    "2) получившиеся слова пытаться исправить построенным BK-деревом, находя наименьшее по стоимости слово  \n",
    "3) определить оптимальный вариант и исправить ошибку, получив вероятное решение  "
   ]
  },
  {
   "cell_type": "code",
   "execution_count": 41,
   "metadata": {},
   "outputs": [
    {
     "name": "stdout",
     "output_type": "stream",
     "text": [
      "['the', 'th', 's', 'is', 'my', 'password']\n"
     ]
    }
   ],
   "source": [
    "corrected = get_correct_password(\"the15ths1s_my_p@$$w0rd33\")\n",
    "print(wordninja.split(corrected))"
   ]
  },
  {
   "cell_type": "code",
   "execution_count": 35,
   "metadata": {},
   "outputs": [],
   "source": [
    "import pybktree as bk\n",
    "from similarity.damerau import Damerau\n",
    "import pickle\n",
    "import os\n",
    "\n",
    "filename = 'tree.pickle'\n",
    "\n",
    "if os.path.isfile(filename):\n",
    "    with open(filename, 'rb') as file:\n",
    "        tree = pickle.load(file)\n",
    "else:\n",
    "    tree = bk.BKTree(Damerau().distance, frequency_words)\n",
    "    with open(filename, 'wb') as file:\n",
    "        pickle.dump(tree, file)"
   ]
  },
  {
   "cell_type": "code",
   "execution_count": 36,
   "metadata": {},
   "outputs": [
    {
     "data": {
      "text/plain": [
       "[(0.0, 'ths'), (1, 'the'), (1, 'this'), (1, 'th'), (1, 'thus')]"
      ]
     },
     "execution_count": 36,
     "metadata": {},
     "output_type": "execute_result"
    }
   ],
   "source": [
    "finded_words = tree.find('ths', 1)\n",
    "finded_words[:5]"
   ]
  },
  {
   "cell_type": "code",
   "execution_count": 38,
   "metadata": {},
   "outputs": [
    {
     "data": {
      "text/plain": [
       "[(2.4634374919588784, 'the'),\n",
       " (5.507959929682301, 'this'),\n",
       " (7.154785374188022, 'th'),\n",
       " (7.760088327973973, 'thes'),\n",
       " (9.562639235511972, 'thus')]"
      ]
     },
     "execution_count": 38,
     "metadata": {},
     "output_type": "execute_result"
    }
   ],
   "source": [
    "arr = [(get_total_cost(it[1]), it[1]) for it in finded_words]\n",
    "sorted(arr)[:5]"
   ]
  },
  {
   "cell_type": "code",
   "execution_count": null,
   "metadata": {},
   "outputs": [],
   "source": []
  }
 ],
 "metadata": {
  "kernelspec": {
   "display_name": "Python 3",
   "language": "python",
   "name": "python3"
  },
  "language_info": {
   "codemirror_mode": {
    "name": "ipython",
    "version": 3
   },
   "file_extension": ".py",
   "mimetype": "text/x-python",
   "name": "python",
   "nbconvert_exporter": "python",
   "pygments_lexer": "ipython3",
   "version": "3.7.6"
  }
 },
 "nbformat": 4,
 "nbformat_minor": 4
}
